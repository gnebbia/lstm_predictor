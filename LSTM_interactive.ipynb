{
 "cells": [
  {
   "cell_type": "code",
   "execution_count": null,
   "metadata": {},
   "outputs": [],
   "source": [
    "#! /usr/bin/env python\n",
    "import argparse\n",
    "import pandas as pd\n",
    "import numpy as np\n",
    "from sklearn.utils import shuffle\n",
    "from keras.layers.core import Dense, Activation, Dropout\n",
    "from keras.layers.recurrent import LSTM\n",
    "from keras.models import Sequential\n",
    "import time\n",
    "from sklearn.metrics import mean_squared_error\n",
    "from matplotlib import pyplot\n",
    "from sklearn.preprocessing import MinMaxScaler\n",
    "from sklearn.preprocessing import StandardScaler\n",
    "\n",
    "\n",
    "\n"
   ]
  },
  {
   "cell_type": "code",
   "execution_count": null,
   "metadata": {},
   "outputs": [],
   "source": [
    "#parser = argparse.ArgumentParser()\n",
    "#parser.add_argument(\"--input\", help=\"the input dataset, representing a 1 variable timeseries\")\n",
    "#parser.add_argument(\"--coltime\", help=\"the column representing the time\")\n",
    "#args = parser.parse_args()\n",
    "\n",
    "series = pd.read_csv(\"file.csv\", parse_dates=['time'])\n",
    "\n",
    "series.set_index('time',inplace = True)"
   ]
  },
  {
   "cell_type": "code",
   "execution_count": null,
   "metadata": {},
   "outputs": [],
   "source": [
    "# Add a column with ones, to aggregate accesses\n",
    "series['count'] = 1\n",
    "series = series.resample('H').sum()"
   ]
  },
  {
   "cell_type": "code",
   "execution_count": null,
   "metadata": {},
   "outputs": [],
   "source": [
    "len(series)"
   ]
  },
  {
   "cell_type": "code",
   "execution_count": null,
   "metadata": {},
   "outputs": [],
   "source": [
    "\n",
    "pyplot.figure(figsize=(20,6))\n",
    "pyplot.plot(series.values)\n",
    "pyplot.show()\n",
    "\n",
    "\n",
    "pyplot.figure(figsize=(20,6))\n",
    "pyplot.plot(series.values[:50])\n",
    "pyplot.show()\n",
    "\n",
    "\n",
    "scaler = MinMaxScaler(feature_range=(-1, 1))\n",
    "scaled = scaler.fit_transform(series.values)\n",
    "series = pd.DataFrame(scaled)"
   ]
  },
  {
   "cell_type": "code",
   "execution_count": null,
   "metadata": {},
   "outputs": [],
   "source": [
    "window_size = 24\n",
    "\n",
    "series_s = series.copy()\n",
    "for i in range(window_size):\n",
    "    series = pd.concat([series, series_s.shift(-(i+1))], axis = 1)\n",
    "    \n",
    "series.dropna(axis=0, inplace=True)\n",
    "series.head()\n",
    "\n",
    "series.shape\n",
    "\n",
    "nrow = round(0.8*series.shape[0])\n",
    "\n",
    "train = series.iloc[:nrow, :]\n",
    "test = series.iloc[nrow:,:]"
   ]
  },
  {
   "cell_type": "code",
   "execution_count": null,
   "metadata": {},
   "outputs": [],
   "source": [
    "\n",
    "#train = shuffle(train)\n",
    "\n",
    "train_X = train.iloc[:,:-1]\n",
    "train_y = train.iloc[:,-1]\n",
    "test_X = test.iloc[:,:-1]\n",
    "test_y = test.iloc[:,-1]\n",
    "\n",
    "train_X = train_X.values\n",
    "train_y = train_y.values\n",
    "test_X = test_X.values\n",
    "test_y = test_y.values\n",
    "\n",
    "\n",
    "# In[16]:\n",
    "\n",
    "\n",
    "print(train_X.shape)\n",
    "print(train_y.shape)\n",
    "print(test_X.shape)\n",
    "print(test_y.shape)\n",
    "\n",
    "\n",
    "# In[17]:\n",
    "\n",
    "\n",
    "train_X = train_X.reshape(train_X.shape[0],train_X.shape[1],1)\n",
    "test_X = test_X.reshape(test_X.shape[0],test_X.shape[1],1)\n",
    "\n",
    "\n",
    "# In[18]:\n",
    "\n",
    "\n",
    "print(train_X.shape)\n",
    "print(train_y.shape)\n",
    "print(test_X.shape)\n",
    "print(test_y.shape)"
   ]
  },
  {
   "cell_type": "code",
   "execution_count": null,
   "metadata": {},
   "outputs": [],
   "source": [
    "# Define the RNN Model\n",
    "model = None\n",
    "model = Sequential()\n",
    "model.add(LSTM(input_shape = (24,1), output_dim= 24, return_sequences = True))\n",
    "#model.add(Dropout(0.5))\n",
    "model.add(LSTM(512))\n",
    "#model.add(LSTM(256))\n",
    "#model.add(Dropout(0.5))\n",
    "model.add(Dense(1))\n",
    "model.add(Activation(\"linear\"))\n",
    "model.compile(loss=\"mse\", optimizer=\"adam\", metrics=['mse', 'mae', 'mape', 'cosine'])\n",
    "model.summary()"
   ]
  },
  {
   "cell_type": "code",
   "execution_count": null,
   "metadata": {},
   "outputs": [],
   "source": [
    "# Start Training\n",
    "start = time.time()\n",
    "model.fit(train_X,train_y,batch_size=512,epochs=30,validation_split=0.15)\n",
    "print(\"> Compilation Time : \", time.time() - start)\n",
    "\n",
    "\n",
    "#actuals = test_y\n",
    "\n"
   ]
  },
  {
   "cell_type": "code",
   "execution_count": null,
   "metadata": {
    "scrolled": true
   },
   "outputs": [],
   "source": [
    "# MODEL FITTING ON TRAINING DATA\n",
    "preds = model.predict(train_X)\n",
    "preds = scaler.inverse_transform(preds)\n",
    "\n",
    "\n",
    "train_y.reshape(-1, 1) \n",
    "actuals = scaler.inverse_transform(train_y.reshape(-1,1))\n",
    "\n",
    "\n",
    "print(mean_squared_error(actuals,preds))\n",
    "print(np.sqrt(mean_squared_error(actuals,preds)))\n",
    "\n",
    "pyplot.figure(num=None, figsize=(20, 16), dpi=80, facecolor='w', edgecolor='k')\n",
    "pyplot.tight_layout()\n",
    "pyplot.plot(actuals[:200])\n",
    "pyplot.plot(preds[:200])\n",
    "pyplot.show()\n",
    "\n"
   ]
  },
  {
   "cell_type": "code",
   "execution_count": null,
   "metadata": {},
   "outputs": [],
   "source": [
    "# MODEL FITTING ON VALIDATION DATA\n",
    "\n",
    "# Doing a prediction on all the test data at once\n",
    "preds = model.predict(test_X)\n",
    "preds = scaler.inverse_transform(preds)\n",
    "\n",
    "\n",
    "test_y.reshape(-1, 1) \n",
    "actuals = scaler.inverse_transform(test_y.reshape(-1,1))\n",
    "print(mean_squared_error(actuals,preds))\n",
    "print(np.sqrt(mean_squared_error(actuals,preds)))\n",
    "\n",
    "\n",
    "# In[27]:\n",
    "\n",
    "pyplot.figure(num=None, figsize=(20, 16), dpi=80, facecolor='w', edgecolor='k')\n",
    "pyplot.tight_layout()\n",
    "pyplot.plot(actuals[:25])\n",
    "pyplot.plot(preds[:25])\n",
    "pyplot.show()\n"
   ]
  },
  {
   "cell_type": "code",
   "execution_count": null,
   "metadata": {},
   "outputs": [],
   "source": [
    "pyplot.figure(num=None, figsize=(20, 16), dpi=80, facecolor='w', edgecolor='k')\n",
    "pyplot.tight_layout()\n",
    "\n",
    "pyplot.plot(actuals[:250])\n",
    "pyplot.plot(preds[:250])\n",
    "pyplot.show()\n",
    "\n",
    "\n",
    "# In[ ]:"
   ]
  },
  {
   "cell_type": "code",
   "execution_count": null,
   "metadata": {},
   "outputs": [],
   "source": [
    "pyplot.plot(preds)\n",
    "pyplot.show()\n",
    "\n"
   ]
  },
  {
   "cell_type": "code",
   "execution_count": null,
   "metadata": {},
   "outputs": [],
   "source": [
    "preds.shape\n",
    "\n",
    "### IF we want to be able to predict more than 1 step, so t+2, t+3 and so on,\n",
    "### we can use a sliding window approach and execute the following code\n",
    "\n",
    "def moving_test_window_preds(n_future_preds):\n",
    "\n",
    "    ''' n_future_preds - Represents the number of future predictions we want to make\n",
    "                         This coincides with the number of windows that we will move forward\n",
    "                         on the test data\n",
    "    '''\n",
    "    preds_moving = []                                    # Use this to store the prediction made on each test window\n",
    "    moving_test_window = [test_X[0,:].tolist()]          # Creating the first test window\n",
    "    moving_test_window = np.array(moving_test_window)   # Making it an numpy array\n",
    "    \n",
    "    for i in range(n_future_preds):\n",
    "        preds_one_step = model.predict(moving_test_window) # Note that this is already a scaled prediction so no need to rescale this\n",
    "        preds_moving.append(preds_one_step[0,0]) # get the value from the numpy 2D array and append to predictions\n",
    "        preds_one_step = preds_one_step.reshape(1,1,1) # Reshaping the prediction to 3D array for concatenation with moving test window\n",
    "        moving_test_window = np.concatenate((moving_test_window[:,1:,:], preds_one_step), axis=1) # This is the new moving test window, where the first element from the window has been removed and the prediction  has been appended to the end\n",
    "    \n",
    "    preds_arr = np.array(preds_moving).reshape(-1, 1)\n",
    "    preds_moving = scaler.inverse_transform(preds_arr)\n",
    "    \n",
    "    return preds_moving\n",
    "        \n",
    "\n",
    "\n",
    "# In[ ]:\n",
    "\n",
    "\n",
    "preds_moving = moving_test_window_preds(24)"
   ]
  },
  {
   "cell_type": "code",
   "execution_count": null,
   "metadata": {},
   "outputs": [],
   "source": [
    "\n",
    "pyplot.plot(actuals[:24])\n",
    "pyplot.plot(preds_moving[:24])\n",
    "pyplot.show()"
   ]
  },
  {
   "cell_type": "code",
   "execution_count": null,
   "metadata": {},
   "outputs": [],
   "source": [
    "pyplot.plot(actuals[:200])\n",
    "pyplot.plot(preds_moving[:200])\n",
    "pyplot.show()\n"
   ]
  },
  {
   "cell_type": "code",
   "execution_count": null,
   "metadata": {},
   "outputs": [],
   "source": []
  }
 ],
 "metadata": {
  "kernelspec": {
   "display_name": "Python 3",
   "language": "python",
   "name": "python3"
  },
  "language_info": {
   "codemirror_mode": {
    "name": "ipython",
    "version": 3
   },
   "file_extension": ".py",
   "mimetype": "text/x-python",
   "name": "python",
   "nbconvert_exporter": "python",
   "pygments_lexer": "ipython3",
   "version": "3.6.5"
  }
 },
 "nbformat": 4,
 "nbformat_minor": 2
}
